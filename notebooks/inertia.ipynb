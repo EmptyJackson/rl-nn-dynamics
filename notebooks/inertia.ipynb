{
 "cells": [
  {
   "cell_type": "code",
   "execution_count": 83,
   "metadata": {},
   "outputs": [],
   "source": [
    "import wandb\n",
    "import re\n",
    "\n",
    "# --- GATHER METRICS ---\n",
    "run_ids = [\n",
    "    '7ze1qrjo',         # tester\n",
    "]\n",
    "api = wandb.Api()\n",
    "metrics = {}\n",
    "metric_filter = lambda metric_name: re.search(\"+(dense|conv)\", metric_name)\n",
    "for id in run_ids:\n",
    "    run = api.run(\"oxwhirl/rl-nn-dynamics/\"+id)\n",
    "    metrics[id] = run.history(pandas=False)"
   ]
  },
  {
   "cell_type": "code",
   "execution_count": 90,
   "metadata": {},
   "outputs": [
    {
     "data": {
      "application/vnd.jupyter.widget-view+json": {
       "model_id": "b3c85827feb546c8a702d3009be73236",
       "version_major": 2,
       "version_minor": 0
      },
      "text/plain": [
       "interactive(children=(IntSlider(value=0, description='Step', max=450), Output()), _dom_classes=('widget-intera…"
      ]
     },
     "metadata": {},
     "output_type": "display_data"
    }
   ],
   "source": [
    "%matplotlib inline\n",
    "from ipywidgets import *\n",
    "import matplotlib.pyplot as plt\n",
    "\n",
    "# CONFIG\n",
    "xmin, xmax = -30, 0\n",
    "metric = 'grad_second_moment.Dense_1.kernel'\n",
    "plot_metrics = metrics[run_ids[0]]\n",
    "\n",
    "# --- Plot histogram ---\n",
    "@interact(x=widgets.IntSlider(min=0, max=len(plot_metrics)-50, step=1, value=0, description='Step'))\n",
    "def update_plot(x):\n",
    "    step_data = plot_metrics[x][metric]\n",
    "    if step_data != None:\n",
    "        fig = plt.figure()\n",
    "        ax = fig.add_subplot(1, 1, 1)\n",
    "        ax.set_xlabel(metric)\n",
    "        ax.set_ylabel('Count')\n",
    "        ax.set_xlim(xmin, xmax)\n",
    "        ax.stairs(step_data['values'], step_data['bins'])"
   ]
  }
 ],
 "metadata": {
  "kernelspec": {
   "display_name": "nn-dyna",
   "language": "python",
   "name": "python3"
  },
  "language_info": {
   "codemirror_mode": {
    "name": "ipython",
    "version": 3
   },
   "file_extension": ".py",
   "mimetype": "text/x-python",
   "name": "python",
   "nbconvert_exporter": "python",
   "pygments_lexer": "ipython3",
   "version": "3.8.12"
  }
 },
 "nbformat": 4,
 "nbformat_minor": 2
}
